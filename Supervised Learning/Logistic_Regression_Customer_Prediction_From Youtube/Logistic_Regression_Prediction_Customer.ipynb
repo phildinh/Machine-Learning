{
 "cells": [
  {
   "cell_type": "markdown",
   "metadata": {},
   "source": [
    "# Classifying Data with Logistic Regression in Python\n",
    "\n",
    "Logistic Regression is one of the simplest and most commonly used classification approaches in machine learning. Logistic regression allows us to model the relationship between independent variables and the probability of a categorical response (such as True or False, Yes or No). By the end of this tutorial, you will have learned:\n",
    "\n",
    "+ How to import, explore and prepare data\n",
    "+ How to build a Logistic Regression model\n",
    "+ How to evaluate a Logistic Regression model\n",
    "+ How to interpret the coefficients of a Logistic Regression model "
   ]
  },
  {
   "cell_type": "markdown",
   "metadata": {},
   "source": [
    "## 1. Collect the Data"
   ]
  },
  {
   "cell_type": "code",
   "execution_count": 28,
   "metadata": {},
   "outputs": [
    {
     "data": {
      "text/html": [
       "<div>\n",
       "<style scoped>\n",
       "    .dataframe tbody tr th:only-of-type {\n",
       "        vertical-align: middle;\n",
       "    }\n",
       "\n",
       "    .dataframe tbody tr th {\n",
       "        vertical-align: top;\n",
       "    }\n",
       "\n",
       "    .dataframe thead th {\n",
       "        text-align: right;\n",
       "    }\n",
       "</style>\n",
       "<table border=\"1\" class=\"dataframe\">\n",
       "  <thead>\n",
       "    <tr style=\"text-align: right;\">\n",
       "      <th></th>\n",
       "      <th>Customer_ID</th>\n",
       "      <th>Age</th>\n",
       "      <th>Income</th>\n",
       "      <th>Gender</th>\n",
       "      <th>Marital_Status</th>\n",
       "      <th>Transaction_Count</th>\n",
       "      <th>Product_Category</th>\n",
       "      <th>Engagement_Score</th>\n",
       "      <th>Churn</th>\n",
       "    </tr>\n",
       "  </thead>\n",
       "  <tbody>\n",
       "    <tr>\n",
       "      <th>0</th>\n",
       "      <td>1</td>\n",
       "      <td>56</td>\n",
       "      <td>12930</td>\n",
       "      <td>Male</td>\n",
       "      <td>Married</td>\n",
       "      <td>30.6</td>\n",
       "      <td>Electronics</td>\n",
       "      <td>3.302364</td>\n",
       "      <td>0</td>\n",
       "    </tr>\n",
       "    <tr>\n",
       "      <th>1</th>\n",
       "      <td>2</td>\n",
       "      <td>69</td>\n",
       "      <td>6285</td>\n",
       "      <td>Male</td>\n",
       "      <td>Married</td>\n",
       "      <td>25.9</td>\n",
       "      <td>Food</td>\n",
       "      <td>4.539739</td>\n",
       "      <td>0</td>\n",
       "    </tr>\n",
       "    <tr>\n",
       "      <th>2</th>\n",
       "      <td>3</td>\n",
       "      <td>46</td>\n",
       "      <td>38863</td>\n",
       "      <td>Male</td>\n",
       "      <td>Single</td>\n",
       "      <td>17.6</td>\n",
       "      <td>Food</td>\n",
       "      <td>4.567768</td>\n",
       "      <td>0</td>\n",
       "    </tr>\n",
       "    <tr>\n",
       "      <th>3</th>\n",
       "      <td>4</td>\n",
       "      <td>32</td>\n",
       "      <td>19704</td>\n",
       "      <td>Male</td>\n",
       "      <td>Married</td>\n",
       "      <td>33.2</td>\n",
       "      <td>Clothing</td>\n",
       "      <td>9.755227</td>\n",
       "      <td>0</td>\n",
       "    </tr>\n",
       "    <tr>\n",
       "      <th>4</th>\n",
       "      <td>5</td>\n",
       "      <td>60</td>\n",
       "      <td>21705</td>\n",
       "      <td>Female</td>\n",
       "      <td>Married</td>\n",
       "      <td>17.0</td>\n",
       "      <td>Electronics</td>\n",
       "      <td>7.079911</td>\n",
       "      <td>0</td>\n",
       "    </tr>\n",
       "    <tr>\n",
       "      <th>...</th>\n",
       "      <td>...</td>\n",
       "      <td>...</td>\n",
       "      <td>...</td>\n",
       "      <td>...</td>\n",
       "      <td>...</td>\n",
       "      <td>...</td>\n",
       "      <td>...</td>\n",
       "      <td>...</td>\n",
       "      <td>...</td>\n",
       "    </tr>\n",
       "    <tr>\n",
       "      <th>9995</th>\n",
       "      <td>9996</td>\n",
       "      <td>55</td>\n",
       "      <td>14646</td>\n",
       "      <td>Female</td>\n",
       "      <td>Single</td>\n",
       "      <td>28.5</td>\n",
       "      <td>Clothing</td>\n",
       "      <td>3.675721</td>\n",
       "      <td>0</td>\n",
       "    </tr>\n",
       "    <tr>\n",
       "      <th>9996</th>\n",
       "      <td>9997</td>\n",
       "      <td>51</td>\n",
       "      <td>17342</td>\n",
       "      <td>Female</td>\n",
       "      <td>Single</td>\n",
       "      <td>24.1</td>\n",
       "      <td>Food</td>\n",
       "      <td>3.370383</td>\n",
       "      <td>0</td>\n",
       "    </tr>\n",
       "    <tr>\n",
       "      <th>9997</th>\n",
       "      <td>9998</td>\n",
       "      <td>57</td>\n",
       "      <td>68620</td>\n",
       "      <td>Male</td>\n",
       "      <td>Single</td>\n",
       "      <td>22.7</td>\n",
       "      <td>Electronics</td>\n",
       "      <td>8.917464</td>\n",
       "      <td>1</td>\n",
       "    </tr>\n",
       "    <tr>\n",
       "      <th>9998</th>\n",
       "      <td>9999</td>\n",
       "      <td>64</td>\n",
       "      <td>67261</td>\n",
       "      <td>Male</td>\n",
       "      <td>Single</td>\n",
       "      <td>27.4</td>\n",
       "      <td>Food</td>\n",
       "      <td>9.077507</td>\n",
       "      <td>1</td>\n",
       "    </tr>\n",
       "    <tr>\n",
       "      <th>9999</th>\n",
       "      <td>10000</td>\n",
       "      <td>32</td>\n",
       "      <td>4935</td>\n",
       "      <td>Female</td>\n",
       "      <td>Married</td>\n",
       "      <td>21.2</td>\n",
       "      <td>Food</td>\n",
       "      <td>1.310203</td>\n",
       "      <td>0</td>\n",
       "    </tr>\n",
       "  </tbody>\n",
       "</table>\n",
       "<p>10000 rows × 9 columns</p>\n",
       "</div>"
      ],
      "text/plain": [
       "      Customer_ID  Age  Income  Gender Marital_Status  Transaction_Count  \\\n",
       "0               1   56   12930    Male        Married               30.6   \n",
       "1               2   69    6285    Male        Married               25.9   \n",
       "2               3   46   38863    Male         Single               17.6   \n",
       "3               4   32   19704    Male        Married               33.2   \n",
       "4               5   60   21705  Female        Married               17.0   \n",
       "...           ...  ...     ...     ...            ...                ...   \n",
       "9995         9996   55   14646  Female         Single               28.5   \n",
       "9996         9997   51   17342  Female         Single               24.1   \n",
       "9997         9998   57   68620    Male         Single               22.7   \n",
       "9998         9999   64   67261    Male         Single               27.4   \n",
       "9999        10000   32    4935  Female        Married               21.2   \n",
       "\n",
       "     Product_Category  Engagement_Score  Churn  \n",
       "0         Electronics          3.302364      0  \n",
       "1                Food          4.539739      0  \n",
       "2                Food          4.567768      0  \n",
       "3            Clothing          9.755227      0  \n",
       "4         Electronics          7.079911      0  \n",
       "...               ...               ...    ...  \n",
       "9995         Clothing          3.675721      0  \n",
       "9996             Food          3.370383      0  \n",
       "9997      Electronics          8.917464      1  \n",
       "9998             Food          9.077507      1  \n",
       "9999             Food          1.310203      0  \n",
       "\n",
       "[10000 rows x 9 columns]"
      ]
     },
     "execution_count": 28,
     "metadata": {},
     "output_type": "execute_result"
    }
   ],
   "source": [
    "import pandas as pd\n",
    "customer = pd.read_csv(r\"c:\\Users\\dinht\\OneDrive\\Desktop\\học data\\Học Python\\logistics regression\\Dataset_Logistic_Regression.csv\")\n",
    "customer"
   ]
  },
  {
   "cell_type": "markdown",
   "metadata": {},
   "source": [
    "- Churn = 0 represents customers who did not churn (No).\n",
    "- Churn = 1 represents customers who did churn (Yes)."
   ]
  },
  {
   "cell_type": "markdown",
   "metadata": {},
   "source": [
    "To verify that the import worked as expected, let’s use the `head()` method of the pandas dataframe to preview the data."
   ]
  },
  {
   "cell_type": "code",
   "execution_count": 29,
   "metadata": {},
   "outputs": [
    {
     "data": {
      "text/html": [
       "<div>\n",
       "<style scoped>\n",
       "    .dataframe tbody tr th:only-of-type {\n",
       "        vertical-align: middle;\n",
       "    }\n",
       "\n",
       "    .dataframe tbody tr th {\n",
       "        vertical-align: top;\n",
       "    }\n",
       "\n",
       "    .dataframe thead th {\n",
       "        text-align: right;\n",
       "    }\n",
       "</style>\n",
       "<table border=\"1\" class=\"dataframe\">\n",
       "  <thead>\n",
       "    <tr style=\"text-align: right;\">\n",
       "      <th></th>\n",
       "      <th>Customer_ID</th>\n",
       "      <th>Age</th>\n",
       "      <th>Income</th>\n",
       "      <th>Gender</th>\n",
       "      <th>Marital_Status</th>\n",
       "      <th>Transaction_Count</th>\n",
       "      <th>Product_Category</th>\n",
       "      <th>Engagement_Score</th>\n",
       "      <th>Churn</th>\n",
       "    </tr>\n",
       "  </thead>\n",
       "  <tbody>\n",
       "    <tr>\n",
       "      <th>0</th>\n",
       "      <td>1</td>\n",
       "      <td>56</td>\n",
       "      <td>12930</td>\n",
       "      <td>Male</td>\n",
       "      <td>Married</td>\n",
       "      <td>30.6</td>\n",
       "      <td>Electronics</td>\n",
       "      <td>3.302364</td>\n",
       "      <td>0</td>\n",
       "    </tr>\n",
       "    <tr>\n",
       "      <th>1</th>\n",
       "      <td>2</td>\n",
       "      <td>69</td>\n",
       "      <td>6285</td>\n",
       "      <td>Male</td>\n",
       "      <td>Married</td>\n",
       "      <td>25.9</td>\n",
       "      <td>Food</td>\n",
       "      <td>4.539739</td>\n",
       "      <td>0</td>\n",
       "    </tr>\n",
       "    <tr>\n",
       "      <th>2</th>\n",
       "      <td>3</td>\n",
       "      <td>46</td>\n",
       "      <td>38863</td>\n",
       "      <td>Male</td>\n",
       "      <td>Single</td>\n",
       "      <td>17.6</td>\n",
       "      <td>Food</td>\n",
       "      <td>4.567768</td>\n",
       "      <td>0</td>\n",
       "    </tr>\n",
       "    <tr>\n",
       "      <th>3</th>\n",
       "      <td>4</td>\n",
       "      <td>32</td>\n",
       "      <td>19704</td>\n",
       "      <td>Male</td>\n",
       "      <td>Married</td>\n",
       "      <td>33.2</td>\n",
       "      <td>Clothing</td>\n",
       "      <td>9.755227</td>\n",
       "      <td>0</td>\n",
       "    </tr>\n",
       "    <tr>\n",
       "      <th>4</th>\n",
       "      <td>5</td>\n",
       "      <td>60</td>\n",
       "      <td>21705</td>\n",
       "      <td>Female</td>\n",
       "      <td>Married</td>\n",
       "      <td>17.0</td>\n",
       "      <td>Electronics</td>\n",
       "      <td>7.079911</td>\n",
       "      <td>0</td>\n",
       "    </tr>\n",
       "  </tbody>\n",
       "</table>\n",
       "</div>"
      ],
      "text/plain": [
       "   Customer_ID  Age  Income  Gender Marital_Status  Transaction_Count  \\\n",
       "0            1   56   12930    Male        Married               30.6   \n",
       "1            2   69    6285    Male        Married               25.9   \n",
       "2            3   46   38863    Male         Single               17.6   \n",
       "3            4   32   19704    Male        Married               33.2   \n",
       "4            5   60   21705  Female        Married               17.0   \n",
       "\n",
       "  Product_Category  Engagement_Score  Churn  \n",
       "0      Electronics          3.302364      0  \n",
       "1             Food          4.539739      0  \n",
       "2             Food          4.567768      0  \n",
       "3         Clothing          9.755227      0  \n",
       "4      Electronics          7.079911      0  "
      ]
     },
     "execution_count": 29,
     "metadata": {},
     "output_type": "execute_result"
    }
   ],
   "source": [
    "customer.head()"
   ]
  },
  {
   "cell_type": "markdown",
   "metadata": {},
   "source": [
    "Our dataset has eight columns. The first six - Age, Income, Gender, Marital_Status, Transaction_Count, and Product_Category - are the predictors (or independent variables), while the last one - Churn - is the response (or dependent variable).\n",
    "\n",
    "In this exercise, we’ll use this customer data to train a logistic regression model to predict whether a customer will churn or not based on their demographic and transactional information."
   ]
  },
  {
   "cell_type": "markdown",
   "metadata": {},
   "source": [
    "## 2. Explore the Data"
   ]
  },
  {
   "cell_type": "markdown",
   "metadata": {},
   "source": [
    "Now that we have our data, let's try to understand it.\n",
    "\n",
    "First, let's get a concise summary of the structure of the data by calling the `info()` method of the `customer` dataframe."
   ]
  },
  {
   "cell_type": "code",
   "execution_count": 30,
   "metadata": {},
   "outputs": [
    {
     "name": "stdout",
     "output_type": "stream",
     "text": [
      "<class 'pandas.core.frame.DataFrame'>\n",
      "RangeIndex: 10000 entries, 0 to 9999\n",
      "Data columns (total 9 columns):\n",
      " #   Column             Non-Null Count  Dtype  \n",
      "---  ------             --------------  -----  \n",
      " 0   Customer_ID        10000 non-null  int64  \n",
      " 1   Age                10000 non-null  int64  \n",
      " 2   Income             10000 non-null  int64  \n",
      " 3   Gender             10000 non-null  object \n",
      " 4   Marital_Status     10000 non-null  object \n",
      " 5   Transaction_Count  10000 non-null  float64\n",
      " 6   Product_Category   10000 non-null  object \n",
      " 7   Engagement_Score   10000 non-null  float64\n",
      " 8   Churn              10000 non-null  int64  \n",
      "dtypes: float64(2), int64(4), object(3)\n",
      "memory usage: 703.3+ KB\n"
     ]
    }
   ],
   "source": [
    "customer.info()"
   ]
  },
  {
   "cell_type": "markdown",
   "metadata": {},
   "source": [
    "The Data columns value shows that the dataset consists of 8 features (or columns). \n",
    "\n",
    "Looking at the Dtype column within this section, we see that the 'Age', 'Income', and 'Transaction_Count' columns hold integer values, while the `Gender`, `Marital_Status`, and `Product_Category` columns hold text (aka object). The `Churn` column, which indicates whether a customer will churn or not, also holds integer values representing binary categories."
   ]
  },
  {
   "cell_type": "markdown",
   "metadata": {},
   "source": [
    "Check the null and Nah in our dataset, because machine learning can not deploy with null value by calling the `isnull` and calculate all null value `sum` method of the dataframe"
   ]
  },
  {
   "cell_type": "code",
   "execution_count": 31,
   "metadata": {},
   "outputs": [
    {
     "data": {
      "text/plain": [
       "Customer_ID          0\n",
       "Age                  0\n",
       "Income               0\n",
       "Gender               0\n",
       "Marital_Status       0\n",
       "Transaction_Count    0\n",
       "Product_Category     0\n",
       "Engagement_Score     0\n",
       "Churn                0\n",
       "dtype: int64"
      ]
     },
     "execution_count": 31,
     "metadata": {},
     "output_type": "execute_result"
    }
   ],
   "source": [
    "customer.isnull().sum()"
   ]
  },
  {
   "cell_type": "markdown",
   "metadata": {},
   "source": [
    "Next, let's get summary statistics for the numeric features in the data by calling the `describe()` method of the dataframe."
   ]
  },
  {
   "cell_type": "code",
   "execution_count": 32,
   "metadata": {},
   "outputs": [
    {
     "data": {
      "text/html": [
       "<div>\n",
       "<style scoped>\n",
       "    .dataframe tbody tr th:only-of-type {\n",
       "        vertical-align: middle;\n",
       "    }\n",
       "\n",
       "    .dataframe tbody tr th {\n",
       "        vertical-align: top;\n",
       "    }\n",
       "\n",
       "    .dataframe thead th {\n",
       "        text-align: right;\n",
       "    }\n",
       "</style>\n",
       "<table border=\"1\" class=\"dataframe\">\n",
       "  <thead>\n",
       "    <tr style=\"text-align: right;\">\n",
       "      <th></th>\n",
       "      <th>Customer_ID</th>\n",
       "      <th>Age</th>\n",
       "      <th>Income</th>\n",
       "      <th>Transaction_Count</th>\n",
       "      <th>Engagement_Score</th>\n",
       "      <th>Churn</th>\n",
       "    </tr>\n",
       "  </thead>\n",
       "  <tbody>\n",
       "    <tr>\n",
       "      <th>count</th>\n",
       "      <td>10000.00000</td>\n",
       "      <td>10000.000000</td>\n",
       "      <td>10000.000000</td>\n",
       "      <td>10000.000000</td>\n",
       "      <td>10000.000000</td>\n",
       "      <td>10000.000000</td>\n",
       "    </tr>\n",
       "    <tr>\n",
       "      <th>mean</th>\n",
       "      <td>5000.50000</td>\n",
       "      <td>43.539400</td>\n",
       "      <td>35919.294300</td>\n",
       "      <td>24.305140</td>\n",
       "      <td>5.529691</td>\n",
       "      <td>0.036200</td>\n",
       "    </tr>\n",
       "    <tr>\n",
       "      <th>std</th>\n",
       "      <td>2886.89568</td>\n",
       "      <td>14.911636</td>\n",
       "      <td>19404.145644</td>\n",
       "      <td>4.685132</td>\n",
       "      <td>2.610846</td>\n",
       "      <td>0.186797</td>\n",
       "    </tr>\n",
       "    <tr>\n",
       "      <th>min</th>\n",
       "      <td>1.00000</td>\n",
       "      <td>18.000000</td>\n",
       "      <td>3002.000000</td>\n",
       "      <td>9.100000</td>\n",
       "      <td>1.000428</td>\n",
       "      <td>0.000000</td>\n",
       "    </tr>\n",
       "    <tr>\n",
       "      <th>25%</th>\n",
       "      <td>2500.75000</td>\n",
       "      <td>31.000000</td>\n",
       "      <td>19058.500000</td>\n",
       "      <td>21.000000</td>\n",
       "      <td>3.291939</td>\n",
       "      <td>0.000000</td>\n",
       "    </tr>\n",
       "    <tr>\n",
       "      <th>50%</th>\n",
       "      <td>5000.50000</td>\n",
       "      <td>43.000000</td>\n",
       "      <td>35601.000000</td>\n",
       "      <td>24.200000</td>\n",
       "      <td>5.487215</td>\n",
       "      <td>0.000000</td>\n",
       "    </tr>\n",
       "    <tr>\n",
       "      <th>75%</th>\n",
       "      <td>7500.25000</td>\n",
       "      <td>56.000000</td>\n",
       "      <td>52855.000000</td>\n",
       "      <td>27.400000</td>\n",
       "      <td>7.834088</td>\n",
       "      <td>0.000000</td>\n",
       "    </tr>\n",
       "    <tr>\n",
       "      <th>max</th>\n",
       "      <td>10000.00000</td>\n",
       "      <td>69.000000</td>\n",
       "      <td>69988.000000</td>\n",
       "      <td>44.200000</td>\n",
       "      <td>9.999055</td>\n",
       "      <td>1.000000</td>\n",
       "    </tr>\n",
       "  </tbody>\n",
       "</table>\n",
       "</div>"
      ],
      "text/plain": [
       "       Customer_ID           Age        Income  Transaction_Count  \\\n",
       "count  10000.00000  10000.000000  10000.000000       10000.000000   \n",
       "mean    5000.50000     43.539400  35919.294300          24.305140   \n",
       "std     2886.89568     14.911636  19404.145644           4.685132   \n",
       "min        1.00000     18.000000   3002.000000           9.100000   \n",
       "25%     2500.75000     31.000000  19058.500000          21.000000   \n",
       "50%     5000.50000     43.000000  35601.000000          24.200000   \n",
       "75%     7500.25000     56.000000  52855.000000          27.400000   \n",
       "max    10000.00000     69.000000  69988.000000          44.200000   \n",
       "\n",
       "       Engagement_Score         Churn  \n",
       "count      10000.000000  10000.000000  \n",
       "mean           5.529691      0.036200  \n",
       "std            2.610846      0.186797  \n",
       "min            1.000428      0.000000  \n",
       "25%            3.291939      0.000000  \n",
       "50%            5.487215      0.000000  \n",
       "75%            7.834088      0.000000  \n",
       "max            9.999055      1.000000  "
      ]
     },
     "execution_count": 32,
     "metadata": {},
     "output_type": "execute_result"
    }
   ],
   "source": [
    "customer.describe()"
   ]
  },
  {
   "cell_type": "markdown",
   "metadata": {},
   "source": [
    "From the statistics, we can see the average, standard deviation, minimum, and maximum values for both the `Age` and `Income` variables. We also get the 25th, 50th (median), and 75th percentile values for both variables.\n",
    "\n",
    "Note that the values for Income are in the dataset's original units, so the minimum and maximum income values might vary significantly. For example, if the dataset contains actual dollar values, the income might range from $3,000 to $20,000."
   ]
  },
  {
   "cell_type": "markdown",
   "metadata": {},
   "source": [
    "## 3.Standardize Categorical Values to Numerical Format"
   ]
  },
  {
   "cell_type": "markdown",
   "metadata": {},
   "source": [
    "Standardizing categorical variables  `Gender`, `Marital_Status`, and `Product_Category` into numerical values is crucial for the following reasons:\n",
    "\n",
    "- Compatibility: Most machine learning models, including logistic regression, require numerical input to perform calculations.\n",
    "\n",
    "- Model Performance: Encoding these variables helps the model capture the relationship between features and the outcome `Churn`, improving prediction accuracy.\n",
    "\n",
    "- Interpretability: Numeric representations make it easier to understand how different features influence model predictions.\n",
    "\n",
    "This process ensures that your logistic regression model can effectively utilize all the features in the dataset."
   ]
  },
  {
   "cell_type": "code",
   "execution_count": 33,
   "metadata": {},
   "outputs": [
    {
     "data": {
      "text/plain": [
       "Index(['Customer_ID', 'Age', 'Income', 'Gender', 'Marital_Status',\n",
       "       'Transaction_Count', 'Product_Category', 'Engagement_Score', 'Churn'],\n",
       "      dtype='object')"
      ]
     },
     "execution_count": 33,
     "metadata": {},
     "output_type": "execute_result"
    }
   ],
   "source": [
    "customer.columns"
   ]
  },
  {
   "cell_type": "markdown",
   "metadata": {},
   "source": [
    "Check an overview of the distribution of categories within each of those feature by `value_counts` method"
   ]
  },
  {
   "cell_type": "code",
   "execution_count": 34,
   "metadata": {},
   "outputs": [
    {
     "name": "stdout",
     "output_type": "stream",
     "text": [
      "Gender\n",
      "Female    5053\n",
      "Male      4947\n",
      "Name: count, dtype: int64\n",
      "Marital_Status\n",
      "Single     5128\n",
      "Married    4872\n",
      "Name: count, dtype: int64\n",
      "Product_Category\n",
      "Electronics    3357\n",
      "Clothing       3356\n",
      "Food           3287\n",
      "Name: count, dtype: int64\n"
     ]
    }
   ],
   "source": [
    "print(customer['Gender'].value_counts())\n",
    "print(customer['Marital_Status'].value_counts())\n",
    "print(customer['Product_Category'].value_counts())"
   ]
  },
  {
   "cell_type": "markdown",
   "metadata": {},
   "source": [
    "convert the categorical variables `Gender`, `Marital_Status`, and `Product_Category` into numerical codes by `replace` method of the dataframe"
   ]
  },
  {
   "cell_type": "code",
   "execution_count": 35,
   "metadata": {},
   "outputs": [
    {
     "name": "stderr",
     "output_type": "stream",
     "text": [
      "C:\\Users\\dinht\\AppData\\Local\\Temp\\ipykernel_11032\\1789452593.py:2: FutureWarning: Downcasting behavior in `replace` is deprecated and will be removed in a future version. To retain the old behavior, explicitly call `result.infer_objects(copy=False)`. To opt-in to the future behavior, set `pd.set_option('future.no_silent_downcasting', True)`\n",
      "  customer['Gender'] = customer['Gender'].replace({'Male': 0, 'Female': 1})\n",
      "C:\\Users\\dinht\\AppData\\Local\\Temp\\ipykernel_11032\\1789452593.py:5: FutureWarning: Downcasting behavior in `replace` is deprecated and will be removed in a future version. To retain the old behavior, explicitly call `result.infer_objects(copy=False)`. To opt-in to the future behavior, set `pd.set_option('future.no_silent_downcasting', True)`\n",
      "  customer['Marital_Status'] = customer['Marital_Status'].replace({'Single': 0, 'Married': 1})\n",
      "C:\\Users\\dinht\\AppData\\Local\\Temp\\ipykernel_11032\\1789452593.py:8: FutureWarning: Downcasting behavior in `replace` is deprecated and will be removed in a future version. To retain the old behavior, explicitly call `result.infer_objects(copy=False)`. To opt-in to the future behavior, set `pd.set_option('future.no_silent_downcasting', True)`\n",
      "  customer['Product_Category'] = customer['Product_Category'].replace({'Electronics': 0, 'Clothing': 1, 'Food': 2})\n"
     ]
    }
   ],
   "source": [
    "# Replace 'Gender' with numerical values\n",
    "customer['Gender'] = customer['Gender'].replace({'Male': 0, 'Female': 1})\n",
    "\n",
    "# Replace 'Marital_Status' with numerical values\n",
    "customer['Marital_Status'] = customer['Marital_Status'].replace({'Single': 0, 'Married': 1})\n",
    "\n",
    "# Replace 'Product_Category' with numerical values\n",
    "customer['Product_Category'] = customer['Product_Category'].replace({'Electronics': 0, 'Clothing': 1, 'Food': 2})"
   ]
  },
  {
   "cell_type": "code",
   "execution_count": 36,
   "metadata": {},
   "outputs": [
    {
     "data": {
      "text/html": [
       "<div>\n",
       "<style scoped>\n",
       "    .dataframe tbody tr th:only-of-type {\n",
       "        vertical-align: middle;\n",
       "    }\n",
       "\n",
       "    .dataframe tbody tr th {\n",
       "        vertical-align: top;\n",
       "    }\n",
       "\n",
       "    .dataframe thead th {\n",
       "        text-align: right;\n",
       "    }\n",
       "</style>\n",
       "<table border=\"1\" class=\"dataframe\">\n",
       "  <thead>\n",
       "    <tr style=\"text-align: right;\">\n",
       "      <th></th>\n",
       "      <th>Customer_ID</th>\n",
       "      <th>Age</th>\n",
       "      <th>Income</th>\n",
       "      <th>Gender</th>\n",
       "      <th>Marital_Status</th>\n",
       "      <th>Transaction_Count</th>\n",
       "      <th>Product_Category</th>\n",
       "      <th>Engagement_Score</th>\n",
       "      <th>Churn</th>\n",
       "    </tr>\n",
       "  </thead>\n",
       "  <tbody>\n",
       "    <tr>\n",
       "      <th>0</th>\n",
       "      <td>1</td>\n",
       "      <td>56</td>\n",
       "      <td>12930</td>\n",
       "      <td>0</td>\n",
       "      <td>1</td>\n",
       "      <td>30.6</td>\n",
       "      <td>0</td>\n",
       "      <td>3.302364</td>\n",
       "      <td>0</td>\n",
       "    </tr>\n",
       "    <tr>\n",
       "      <th>1</th>\n",
       "      <td>2</td>\n",
       "      <td>69</td>\n",
       "      <td>6285</td>\n",
       "      <td>0</td>\n",
       "      <td>1</td>\n",
       "      <td>25.9</td>\n",
       "      <td>2</td>\n",
       "      <td>4.539739</td>\n",
       "      <td>0</td>\n",
       "    </tr>\n",
       "    <tr>\n",
       "      <th>2</th>\n",
       "      <td>3</td>\n",
       "      <td>46</td>\n",
       "      <td>38863</td>\n",
       "      <td>0</td>\n",
       "      <td>0</td>\n",
       "      <td>17.6</td>\n",
       "      <td>2</td>\n",
       "      <td>4.567768</td>\n",
       "      <td>0</td>\n",
       "    </tr>\n",
       "    <tr>\n",
       "      <th>3</th>\n",
       "      <td>4</td>\n",
       "      <td>32</td>\n",
       "      <td>19704</td>\n",
       "      <td>0</td>\n",
       "      <td>1</td>\n",
       "      <td>33.2</td>\n",
       "      <td>1</td>\n",
       "      <td>9.755227</td>\n",
       "      <td>0</td>\n",
       "    </tr>\n",
       "    <tr>\n",
       "      <th>4</th>\n",
       "      <td>5</td>\n",
       "      <td>60</td>\n",
       "      <td>21705</td>\n",
       "      <td>1</td>\n",
       "      <td>1</td>\n",
       "      <td>17.0</td>\n",
       "      <td>0</td>\n",
       "      <td>7.079911</td>\n",
       "      <td>0</td>\n",
       "    </tr>\n",
       "  </tbody>\n",
       "</table>\n",
       "</div>"
      ],
      "text/plain": [
       "   Customer_ID  Age  Income  Gender  Marital_Status  Transaction_Count  \\\n",
       "0            1   56   12930       0               1               30.6   \n",
       "1            2   69    6285       0               1               25.9   \n",
       "2            3   46   38863       0               0               17.6   \n",
       "3            4   32   19704       0               1               33.2   \n",
       "4            5   60   21705       1               1               17.0   \n",
       "\n",
       "   Product_Category  Engagement_Score  Churn  \n",
       "0                 0          3.302364      0  \n",
       "1                 2          4.539739      0  \n",
       "2                 2          4.567768      0  \n",
       "3                 1          9.755227      0  \n",
       "4                 0          7.079911      0  "
      ]
     },
     "execution_count": 36,
     "metadata": {},
     "output_type": "execute_result"
    }
   ],
   "source": [
    "# check our `customer` dataset again to ensure all type are int that we can continue to progress of logistics regression\n",
    "customer.head()"
   ]
  },
  {
   "cell_type": "markdown",
   "metadata": {},
   "source": [
    "### Boxplot\n",
    "Before we create the plots we need, we must first import a couple of packages. The first is the `matplotlib` package and the second is the `seaborn` package."
   ]
  },
  {
   "cell_type": "code",
   "execution_count": 37,
   "metadata": {},
   "outputs": [],
   "source": [
    "from matplotlib import pyplot as plt\n",
    "import seaborn as sns"
   ]
  },
  {
   "cell_type": "markdown",
   "metadata": {},
   "source": [
    "Let's start by creating a boxplot that highlights the difference in `Income` between customers who did not `churn` (No) and those who did `churn` (Yes)."
   ]
  },
  {
   "cell_type": "code",
   "execution_count": 38,
   "metadata": {},
   "outputs": [
    {
     "data": {
      "image/png": "[encoded data removed]",
      "text/plain": [
       "<Figure size 640x480 with 1 Axes>"
      ]
     },
     "metadata": {},
     "output_type": "display_data"
    }
   ],
   "source": [
    "ax = sns.boxplot(data = customer, x = 'Churn', y = 'Income')"
   ]
  },
  {
   "cell_type": "markdown",
   "metadata": {},
   "source": [
    "\n",
    "The boxplot illustrates the income distribution for customers based on their churn status:\n",
    "\n",
    "- Median Income: The median income of non-churned customers (0) is higher than that of churned customers (1), indicating a potential relationship between higher income and lower churn rates.\n",
    "- Spread and Outliers: The income range for non-churned customers is broader with some outliers on the lower end, suggesting variability in their financial stability. Churned customers have a narrower range, with outliers indicating very low incomes.\n",
    "- Analysis Implication: The observed differences in income distribution between the two groups suggest that income could be a useful predictor of churn. Lower income seems associated with higher churn, which could inform targeted retention strategies."
   ]
  },
  {
   "cell_type": "markdown",
   "metadata": {},
   "source": [
    "Let's start by creating a boxplot that highlights the difference in `Age` between customers who did not `churn` (No) and those who did `churn` (Yes)."
   ]
  },
  {
   "cell_type": "code",
   "execution_count": 40,
   "metadata": {},
   "outputs": [
    {
     "data": {
      "image/png": "[encoded data removed]",
      "text/plain": [
       "<Figure size 640x480 with 1 Axes>"
      ]
     },
     "metadata": {},
     "output_type": "display_data"
    }
   ],
   "source": [
    "ax = sns.boxplot(data = customer, x = 'Churn', y = 'Age')"
   ]
  },
  {
   "cell_type": "markdown",
   "metadata": {},
   "source": [
    "The boxplot comparing age distributions between customers who did not churn (No) and those who did churn (Yes) reveals:\n",
    "\n",
    "- Median Age: The median age of non-churned customers (0) is noticeably lower than that of churned customers (1), suggesting younger customers tend to stay while older customers are more likely to churn.\n",
    "- Spread and Outliers: Non-churned customers have a tighter age distribution, indicating less variability among younger customers. Churned customers show a broader age range with several outliers indicating significantly older ages.\n",
    "- Analysis Implication: The age differences between churned and non-churned groups suggest that age could be a significant factor in churn prediction, with older customers exhibiting a higher churn rate. This could guide age-targeted customer retention strategies."
   ]
  },
  {
   "cell_type": "markdown",
   "metadata": {},
   "source": [
    "Let's continue by creating a boxplot that highlights the difference in `Transaction_Count`, `Marital_Status`, `Engagement_Score` and `Product_Category` between customers who did not `churn` (No) and those who did `churn` (Yes)."
   ]
  },
  {
   "cell_type": "code",
   "execution_count": 44,
   "metadata": {},
   "outputs": [
    {
     "data": {
      "image/png": "[encoded data removed]",
      "text/plain": [
       "<Figure size 2000x1000 with 4 Axes>"
      ]
     },
     "metadata": {},
     "output_type": "display_data"
    }
   ],
   "source": [
    "# Create a figure with custom subplot sizes using 'GridSpec'\n",
    "fig = plt.figure(figsize=(20, 10))  # Adjust the overall figure size\n",
    "gs = fig.add_gridspec(2, 4)  # Define a 2x4 grid\n",
    "\n",
    "# Define each subplot space\n",
    "ax1 = fig.add_subplot(gs[0, 0:2])  # Transaction Count gets a double column width\n",
    "ax2 = fig.add_subplot(gs[0, 2])  # Marital Status\n",
    "ax3 = fig.add_subplot(gs[0, 3])  # Product Category\n",
    "ax4 = fig.add_subplot(gs[1, 0:2])  # Engagement Score gets a double column width\n",
    "\n",
    "# Boxplot for Transaction_Count by Churn\n",
    "sns.boxplot(data=customer, x='Churn', y='Transaction_Count', ax=ax1)\n",
    "ax1.set_title('Transaction Count by Churn')\n",
    "\n",
    "# Bar plot for Marital_Status by Churn\n",
    "sns.countplot(data=customer, x='Marital_Status', hue='Churn', ax=ax2)\n",
    "ax2.set_title('Marital Status by Churn')\n",
    "\n",
    "# Bar plot for Product_Category by Churn\n",
    "sns.countplot(data=customer, x='Product_Category', hue='Churn', ax=ax3)\n",
    "ax3.set_title('Product Category by Churn')\n",
    "\n",
    "# Bar plot for Engagement_Score by Churn\n",
    "sns.countplot(data=customer, x='Engagement_Score', hue='Churn', ax=ax4)\n",
    "ax4.set_title('Engagement Score by Churn')\n",
    "\n",
    "# Adjust layout to prevent overlap and ensure clarity\n",
    "plt.tight_layout()\n",
    "plt.show()"
   ]
  },
  {
   "cell_type": "markdown",
   "metadata": {},
   "source": [
    "- Transaction Count by Churn: The boxplot shows that both churned and non-churned customers have similar ranges in transaction counts, with non-churned customers displaying a slightly higher median. This suggests that while transaction activity is slightly higher among those who do not churn, the difference is not substantial enough to be a strong predictor of churn.\n",
    "\n",
    "- Marital Status by Churn: The count plot indicates that marital status does not vary significantly between churned and non-churned customers, suggesting it is not a major factor in predicting churn. Both single and married customers exhibit similar churn behavior.\n",
    "\n",
    "- Product Category by Churn: The counts across different product categories are relatively even, indicating no significant variation in product preferences between those who churn and those who do not. This suggests that product category alone is not a significant predictor of churn.\n",
    "\n",
    "- Engagement Score by Churn: The bar plot, which likely misrepresents the data due to a scaling or plotting issue, should ideally show differences in engagement scores between churned and non-churned customers. However, from this representation, it seems there is an error in plotting which needs correction to provide meaningful insight.\n",
    "\n",
    "Overall Analysis: The current attributes—transaction count, marital status, and product category—show limited variation between churned and non-churned groups, suggesting these factors alone may not be decisive in predicting churn. The incorrectly visualized engagement score needs re-evaluation to ascertain its predictive value. These findings emphasize the need for a more multifaceted approach to churn analysis, possibly incorporating more nuanced or derived features."
   ]
  },
  {
   "cell_type": "markdown",
   "metadata": {},
   "source": [
    "### Scatterplot\n",
    "Before plotting, recall that in the dataset:\n",
    "\n",
    "- Churn = 0 represents customers who did not churn (No).\n",
    "- Churn = 1 represents customers who did churn (Yes).\n",
    "\n",
    "we can also use a scatterplot to get a slightly different perspective of our data. "
   ]
  },
  {
   "cell_type": "markdown",
   "metadata": {},
   "source": [
    "However, before we do so, we must first import the `numpy` package."
   ]
  },
  {
   "cell_type": "code",
   "execution_count": 45,
   "metadata": {},
   "outputs": [],
   "source": [
    "import numpy as np"
   ]
  },
  {
   "cell_type": "code",
   "execution_count": 48,
   "metadata": {},
   "outputs": [
    {
     "data": {
      "image/png": "[encoded data removed]",
      "text/plain": [
       "<Figure size 1000x600 with 7 Axes>"
      ]
     },
     "metadata": {},
     "output_type": "display_data"
    }
   ],
   "source": [
    "# Attributes to plot against Churn\n",
    "attributes = ['Age', 'Income', 'Gender', 'Marital_Status', 'Transaction_Count', 'Product_Category', 'Engagement_Score']\n",
    "\n",
    "# Create scatter plots\n",
    "plt.figure(figsize=(10, 6))  # Adjust the figure size to better fit the 4x2 grid\n",
    "for i, attribute in enumerate(attributes):\n",
    "    plt.subplot(4, 2, i + 1)  # Adjust the grid parameters to 4x2 to accommodate all attributes\n",
    "    sns.scatterplot(data=customer, x=attribute, y='Churn', alpha=0.5)\n",
    "    plt.title(f'Scatter Plot of {attribute} vs. Churn')\n",
    "\n",
    "plt.tight_layout()  # Adjust layout to prevent overlap\n",
    "plt.show()"
   ]
  },
  {
   "cell_type": "markdown",
   "metadata": {},
   "source": [
    "Based on the scatter plots, attributes such as `Age`, `Engagement Score`, `Transaction Count`, and `Income` show potential for modeling using `logistic regression` due to visible variations between churned and non-churned customers:\n",
    "\n",
    "- Age and Churn: Different age groups may exhibit distinct churn behaviors, suggesting age as a relevant predictor.\n",
    "- Engagement Score: A higher score may correlate with lower churn, hinting at its potential as a predictive factor.\n",
    "- Transaction Count: More transactions could indicate greater customer satisfaction and lower churn.\n"
   ]
  },
  {
   "cell_type": "markdown",
   "metadata": {},
   "source": [
    "## 3. Prepare the Data"
   ]
  },
  {
   "cell_type": "markdown",
   "metadata": {},
   "source": [
    "Our primary objective in this step is to split our data into training and test sets. The training set will be used to train the model, while the test set will be used to evaluate the model.\n",
    "\n",
    "Before we split the data, we first need to separate the dependent variable from the independent variables."
   ]
  },
  {
   "cell_type": "markdown",
   "metadata": {},
   "source": [
    "Let's start by creating a pandas Series called `y` for the dependent variable."
   ]
  },
  {
   "cell_type": "code",
   "execution_count": 49,
   "metadata": {},
   "outputs": [],
   "source": [
    "y = customer['Churn']"
   ]
  },
  {
   "cell_type": "code",
   "execution_count": 50,
   "metadata": {},
   "outputs": [
    {
     "data": {
      "text/plain": [
       "Index(['Customer_ID', 'Age', 'Income', 'Gender', 'Marital_Status',\n",
       "       'Transaction_Count', 'Product_Category', 'Engagement_Score', 'Churn'],\n",
       "      dtype='object')"
      ]
     },
     "execution_count": 50,
     "metadata": {},
     "output_type": "execute_result"
    }
   ],
   "source": [
    "customer.columns"
   ]
  },
  {
   "cell_type": "markdown",
   "metadata": {},
   "source": [
    "Then we create a pandas DataFrame called `X` for the independent variables."
   ]
  },
  {
   "cell_type": "code",
   "execution_count": 53,
   "metadata": {},
   "outputs": [],
   "source": [
    "x = customer.drop(['Churn','Customer_ID'], axis=1)"
   ]
  },
  {
   "cell_type": "markdown",
   "metadata": {},
   "source": [
    "Next, we import the `train_test_split()` function from the `sklearn.model_selection` subpackage. "
   ]
  },
  {
   "cell_type": "code",
   "execution_count": 54,
   "metadata": {},
   "outputs": [],
   "source": [
    "from sklearn.model_selection import train_test_split"
   ]
  },
  {
   "cell_type": "markdown",
   "metadata": {},
   "source": [
    "Using the `train_test_split()` function, we can split `X` and `y` into `X_train`, `X_test`, `y_train` and `y_test`.\n",
    "\n",
    "Note that within the `train_test_split()` function, we will set:\n",
    "\n",
    "* `train_size` to `0.7`. This means we want $70\\%$ of the original data to be assigned to the training data while $30\\%$ is assigned to the test data. \n",
    "\n",
    "* `stratify` as `y`, which means that we want the data split using a stratified random sampling approach based on the values of `y`. \n",
    "\n",
    "* `random_state` to `123`, so we get the same results every time we do this split. "
   ]
  },
  {
   "cell_type": "code",
   "execution_count": 56,
   "metadata": {},
   "outputs": [],
   "source": [
    "x_train, x_test, y_train, y_test = train_test_split(x, y,\n",
    "                                                    train_size = 0.7,\n",
    "                                                    stratify = y,\n",
    "                                                    random_state = 123)"
   ]
  },
  {
   "cell_type": "markdown",
   "metadata": {},
   "source": [
    "After the data is split, the newly created `X_train` and `X_test` data sets hold the independent variables for the training and test sets, respectively. While the `y_train` and `y_test` data sets hold the dependent variable for the training and test sets respectively.\n"
   ]
  },
  {
   "cell_type": "markdown",
   "metadata": {},
   "source": [
    "We can refer to the `shape` attribute of any of the newly created data sets to know how many instances or records are in each. Let's look at the training data."
   ]
  },
  {
   "cell_type": "code",
   "execution_count": 59,
   "metadata": {},
   "outputs": [
    {
     "data": {
      "text/plain": [
       "(7000, 7)"
      ]
     },
     "execution_count": 59,
     "metadata": {},
     "output_type": "execute_result"
    }
   ],
   "source": [
    "x_train.shape"
   ]
  },
  {
   "cell_type": "code",
   "execution_count": 60,
   "metadata": {},
   "outputs": [
    {
     "data": {
      "text/plain": [
       "(10000, 9)"
      ]
     },
     "execution_count": 60,
     "metadata": {},
     "output_type": "execute_result"
    }
   ],
   "source": [
    "customer.shape"
   ]
  },
  {
   "cell_type": "markdown",
   "metadata": {},
   "source": [
    "The result is a tuple that holds the number of rows and columns in the `X_train` dataframe. It tells us that $70000$ out of the $10000$ instances in the `customer` data were assigned to the training set.\n",
    "\n",
    "Let's look at the test set as well."
   ]
  },
  {
   "cell_type": "code",
   "execution_count": 61,
   "metadata": {},
   "outputs": [
    {
     "data": {
      "text/plain": [
       "(3000, 7)"
      ]
     },
     "execution_count": 61,
     "metadata": {},
     "output_type": "execute_result"
    }
   ],
   "source": [
    "x_test.shape"
   ]
  },
  {
   "cell_type": "markdown",
   "metadata": {},
   "source": [
    "The result tells us that $9$ out of the $3000$ instances in the `customer` data were assigned to the test set."
   ]
  },
  {
   "cell_type": "markdown",
   "metadata": {},
   "source": [
    "## 4. Train and Evaluate the Model"
   ]
  },
  {
   "cell_type": "markdown",
   "metadata": {},
   "source": [
    "We are going to use the `LogisticRegression` class from the `sklearn.linear_model` subpackage to train our model. Let's import it."
   ]
  },
  {
   "cell_type": "code",
   "execution_count": 63,
   "metadata": {},
   "outputs": [],
   "source": [
    "from sklearn.linear_model import LogisticRegression"
   ]
  },
  {
   "cell_type": "markdown",
   "metadata": {},
   "source": [
    "We can now instantiate a new object called `classifier` from the `LogisticRegression` class."
   ]
  },
  {
   "cell_type": "code",
   "execution_count": 64,
   "metadata": {},
   "outputs": [],
   "source": [
    "classifier = LogisticRegression()"
   ]
  },
  {
   "cell_type": "markdown",
   "metadata": {},
   "source": [
    "To train a model, we pass the training data (`X_train` and `y_train`) to the `fit()` method of the classifier object."
   ]
  },
  {
   "cell_type": "code",
   "execution_count": 65,
   "metadata": {},
   "outputs": [
    {
     "name": "stderr",
     "output_type": "stream",
     "text": [
      "C:\\Users\\dinht\\AppData\\Local\\Packages\\PythonSoftwareFoundation.Python.3.11_qbz5n2kfra8p0\\LocalCache\\local-packages\\Python311\\site-packages\\sklearn\\linear_model\\_logistic.py:469: ConvergenceWarning: lbfgs failed to converge (status=1):\n",
      "STOP: TOTAL NO. of ITERATIONS REACHED LIMIT.\n",
      "\n",
      "Increase the number of iterations (max_iter) or scale the data as shown in:\n",
      "    https://scikit-learn.org/stable/modules/preprocessing.html\n",
      "Please also refer to the documentation for alternative solver options:\n",
      "    https://scikit-learn.org/stable/modules/linear_model.html#logistic-regression\n",
      "  n_iter_i = _check_optimize_result(\n"
     ]
    }
   ],
   "source": [
    "model = classifier.fit(x_train, y_train)"
   ]
  },
  {
   "cell_type": "code",
   "execution_count": 67,
   "metadata": {},
   "outputs": [
    {
     "data": {
      "text/plain": [
       "array([0, 0, 0, ..., 0, 0, 0])"
      ]
     },
     "execution_count": 67,
     "metadata": {},
     "output_type": "execute_result"
    }
   ],
   "source": [
    "model.predict(x_test)"
   ]
  },
  {
   "cell_type": "code",
   "execution_count": 68,
   "metadata": {},
   "outputs": [
    {
     "data": {
      "text/plain": [
       "0.963"
      ]
     },
     "execution_count": 68,
     "metadata": {},
     "output_type": "execute_result"
    }
   ],
   "source": [
    "model.score(x_test, y_test)"
   ]
  },
  {
   "cell_type": "markdown",
   "metadata": {},
   "source": [
    "The result tells us that our Logistic Regression model is able to correctly predict  $96\\%$ of the labels in the test set."
   ]
  },
  {
   "cell_type": "markdown",
   "metadata": {},
   "source": [
    "Accuracy provides a simple measure of a model's overall effectiveness but overlooks the nuances of class-specific performance. To address this, we use a confusion matrix, which offers a detailed view of the model’s accuracy across different classes, highlighting specific areas for improvement by distinguishing between types of errors."
   ]
  },
  {
   "cell_type": "code",
   "execution_count": 69,
   "metadata": {},
   "outputs": [],
   "source": [
    "from sklearn.metrics import confusion_matrix"
   ]
  },
  {
   "cell_type": "code",
   "execution_count": 70,
   "metadata": {},
   "outputs": [
    {
     "data": {
      "text/plain": [
       "array([[2889,    2],\n",
       "       [ 109,    0]])"
      ]
     },
     "execution_count": 70,
     "metadata": {},
     "output_type": "execute_result"
    }
   ],
   "source": [
    "confusion_matrix(y_test, model.predict(x_test))"
   ]
  },
  {
   "cell_type": "markdown",
   "metadata": {},
   "source": [
    "- True Negatives (TN): 2889 - The number of negative cases (non-churned) correctly identified as negative.\n",
    "- False Positives (FP): 2 - The number of negative cases incorrectly predicted as positive (i.e., the model incorrectly predicted churn where it did not occur).\n",
    "- False Negatives (FN): 109 - The number of positive cases (churned) that were incorrectly predicted as negative (i.e., the model missed these actual churn cases).\n",
    "- True Positives (TP): 0 - The number of positive cases correctly identified as positive (i.e., correctly identified churn cases)."
   ]
  },
  {
   "cell_type": "markdown",
   "metadata": {},
   "source": [
    "Analysis\n",
    "- Sensitivity/Recall: This is calculated as TP / (TP + FN). In this case, it is 0 / (0 + 109) = 0. This indicates that the model failed to correctly identify any of the true positive cases, which is a significant issue if the cost of missing out on identifying churn cases is high.\n",
    "\n",
    "- Specificity: This is TN / (TN + FP), calculated as 2889 / (2889 + 2) ≈ 0.9993, showing that the model is very effective at identifying non-churn cases.\n",
    "\n",
    "- Accuracy: This is (TN + TP) / (TN + TP + FN + FP), which would be (2889 + 0) / (2889 + 0 + 109 + 2) ≈ 0.9632, matching with the accuracy score mentioned earlier. Although this seems high, it's primarily driven by the model's ability to predict the majority class (non-churned)."
   ]
  },
  {
   "cell_type": "markdown",
   "metadata": {},
   "source": [
    "## 5. Interpret the Model"
   ]
  },
  {
   "cell_type": "markdown",
   "metadata": {},
   "source": [
    "Now that we've built a Logistic Regression model and evaluated the performance of the model on the test data, we can now interpret the model's output. Specifically, the model coefficients."
   ]
  },
  {
   "cell_type": "markdown",
   "metadata": {},
   "source": [
    "The relatonship between the dependent and independent variables in a Logistic Regression model is generally represented as follows:\n",
    "\n",
    "$$ log(\\frac{P}{1 - P}) = \\beta_{0} + \\beta_{1}X_{1} + ...+ \\beta_{n}X_{n}$$\n",
    "\n",
    "In this representation, the left hand side of the equaton is known as the **logit** or the log-odds of the probability of an outcome or class $P$. $\\beta_{0}$ is the intercept. $\\beta_{1}$ to $\\beta_{n}$ are the coefficients of the independent variables $X_{1}$ to $X_{n}$."
   ]
  },
  {
   "cell_type": "markdown",
   "metadata": {},
   "source": [
    "To get the intercept (or $\\beta_{0}$), we refer to the `intercept_` attribute of our model."
   ]
  },
  {
   "cell_type": "code",
   "execution_count": 72,
   "metadata": {},
   "outputs": [
    {
     "data": {
      "text/plain": [
       "array([-0.67367257])"
      ]
     },
     "execution_count": 72,
     "metadata": {},
     "output_type": "execute_result"
    }
   ],
   "source": [
    "model.intercept_"
   ]
  },
  {
   "cell_type": "markdown",
   "metadata": {},
   "source": [
    "To get the other model coefficients ($\\beta_{1}$ and $\\beta_{2}$), we refer to the `coef_` attribute of our model."
   ]
  },
  {
   "cell_type": "code",
   "execution_count": 73,
   "metadata": {},
   "outputs": [
    {
     "data": {
      "text/plain": [
       "array([[ 3.88187184e-02,  9.99723280e-06, -4.06202300e-01,\n",
       "        -2.49814832e-01, -1.98935400e-01, -6.18927158e-01,\n",
       "         1.66712337e-01]])"
      ]
     },
     "execution_count": 73,
     "metadata": {},
     "output_type": "execute_result"
    }
   ],
   "source": [
    "model.coef_"
   ]
  },
  {
   "cell_type": "markdown",
   "metadata": {},
   "source": [
    "To make our coefficients easier to work with, let's convert the coefficients from a two-dimenionsal array to a one-dimensional array and round the values to two decimal places."
   ]
  },
  {
   "cell_type": "code",
   "execution_count": 76,
   "metadata": {},
   "outputs": [
    {
     "data": {
      "text/plain": [
       "array([ 0.04,  0.  , -0.41, -0.25, -0.2 , -0.62,  0.17])"
      ]
     },
     "execution_count": 76,
     "metadata": {},
     "output_type": "execute_result"
    }
   ],
   "source": [
    "log_odds = np.round(model.coef_[0], 2)\n",
    "log_odds"
   ]
  },
  {
   "cell_type": "markdown",
   "metadata": {},
   "source": [
    "Next, let's create a pandas DataFrame using the coefficient values and the column names from the training data as row indexes:"
   ]
  },
  {
   "cell_type": "code",
   "execution_count": 77,
   "metadata": {},
   "outputs": [
    {
     "data": {
      "text/html": [
       "<div>\n",
       "<style scoped>\n",
       "    .dataframe tbody tr th:only-of-type {\n",
       "        vertical-align: middle;\n",
       "    }\n",
       "\n",
       "    .dataframe tbody tr th {\n",
       "        vertical-align: top;\n",
       "    }\n",
       "\n",
       "    .dataframe thead th {\n",
       "        text-align: right;\n",
       "    }\n",
       "</style>\n",
       "<table border=\"1\" class=\"dataframe\">\n",
       "  <thead>\n",
       "    <tr style=\"text-align: right;\">\n",
       "      <th></th>\n",
       "      <th>log odds</th>\n",
       "    </tr>\n",
       "  </thead>\n",
       "  <tbody>\n",
       "    <tr>\n",
       "      <th>Age</th>\n",
       "      <td>0.04</td>\n",
       "    </tr>\n",
       "    <tr>\n",
       "      <th>Income</th>\n",
       "      <td>0.00</td>\n",
       "    </tr>\n",
       "    <tr>\n",
       "      <th>Gender</th>\n",
       "      <td>-0.41</td>\n",
       "    </tr>\n",
       "    <tr>\n",
       "      <th>Marital_Status</th>\n",
       "      <td>-0.25</td>\n",
       "    </tr>\n",
       "    <tr>\n",
       "      <th>Transaction_Count</th>\n",
       "      <td>-0.20</td>\n",
       "    </tr>\n",
       "    <tr>\n",
       "      <th>Product_Category</th>\n",
       "      <td>-0.62</td>\n",
       "    </tr>\n",
       "    <tr>\n",
       "      <th>Engagement_Score</th>\n",
       "      <td>0.17</td>\n",
       "    </tr>\n",
       "  </tbody>\n",
       "</table>\n",
       "</div>"
      ],
      "text/plain": [
       "                   log odds\n",
       "Age                    0.04\n",
       "Income                 0.00\n",
       "Gender                -0.41\n",
       "Marital_Status        -0.25\n",
       "Transaction_Count     -0.20\n",
       "Product_Category      -0.62\n",
       "Engagement_Score       0.17"
      ]
     },
     "execution_count": 77,
     "metadata": {},
     "output_type": "execute_result"
    }
   ],
   "source": [
    "pd.DataFrame({'log odds': log_odds}, \n",
    "              index = x.columns)"
   ]
  },
  {
   "cell_type": "markdown",
   "metadata": {},
   "source": [
    "Key Insights from Log Odds Coefficients:\n",
    "\n",
    "- Age (0.04):\n",
    "Interpretation: A positive coefficient for Age implies that as age increases, so does the likelihood of churn.\n",
    "\n",
    "    Insight: Older customers might be more likely to churn. This could be due to various reasons like changing needs or dissatisfaction with how services evolve over time.\n",
    "    \n",
    "- Income (0.00):\n",
    "Interpretation: The coefficient of zero suggests that income does not influence the churn probability, at least within the bounds of this model.\n",
    "\n",
    "    Insight: Income might not be a relevant factor in determining churn, indicating that churn could be driven more by service-related aspects than economic factors.\n",
    "    \n",
    "- Gender (-0.41):\n",
    "Interpretation: A negative coefficient indicates that a change in gender (from male to female, if coded as 0 for male and 1 for female) reduces the likelihood of churn.\n",
    "\n",
    "    Insight: Female customers may have a lower churn rate than male customers, potentially indicating higher satisfaction or loyalty levels among females.\n",
    "    \n",
    "- Marital_Status (-0.25):\n",
    "Interpretation: Similar to gender, a negative coefficient suggests that being married (assuming 0 for single and 1 for married) reduces churn.\n",
    "\n",
    "    Insight: Married customers may be less likely to churn, possibly due to more stable life circumstances or differing service needs and expectations.\n",
    "    \n",
    "- Transaction_Count (-0.20):\n",
    "Interpretation: The negative coefficient indicates that more transactions correlate with lower churn rates.\n",
    "\n",
    "    Insight: Higher transaction counts could reflect better engagement or satisfaction with the service, leading to reduced churn.\n",
    "    \n",
    "- Product_Category (-0.62):\n",
    "Interpretation: This suggests significant differences in churn based on product category.\n",
    "\n",
    "    Insight: Some product categories are associated with higher loyalty. Understanding which categories have lower churn could guide marketing and product development strategies.\n",
    "    \n",
    "- Engagement_Score (0.17):\n",
    "Interpretation: A higher engagement score increases the likelihood of churn.\n",
    "\n",
    "    Insight: This could be counterintuitive but might indicate that more engaged customers have higher expectations, which, if not met, could lead to churn."
   ]
  },
  {
   "cell_type": "markdown",
   "metadata": {},
   "source": [
    "Understandably, interpreting the coefficients in terms of log odds is a bit confusing. A more intuitive approach would be to look at them in terms of odds. Let's exponentiate the coefficients so we can interpret them in terms of odds rather than log odds:"
   ]
  },
  {
   "cell_type": "code",
   "execution_count": 78,
   "metadata": {},
   "outputs": [
    {
     "data": {
      "text/html": [
       "<div>\n",
       "<style scoped>\n",
       "    .dataframe tbody tr th:only-of-type {\n",
       "        vertical-align: middle;\n",
       "    }\n",
       "\n",
       "    .dataframe tbody tr th {\n",
       "        vertical-align: top;\n",
       "    }\n",
       "\n",
       "    .dataframe thead th {\n",
       "        text-align: right;\n",
       "    }\n",
       "</style>\n",
       "<table border=\"1\" class=\"dataframe\">\n",
       "  <thead>\n",
       "    <tr style=\"text-align: right;\">\n",
       "      <th></th>\n",
       "      <th>odds</th>\n",
       "    </tr>\n",
       "  </thead>\n",
       "  <tbody>\n",
       "    <tr>\n",
       "      <th>Age</th>\n",
       "      <td>1.04</td>\n",
       "    </tr>\n",
       "    <tr>\n",
       "      <th>Income</th>\n",
       "      <td>1.00</td>\n",
       "    </tr>\n",
       "    <tr>\n",
       "      <th>Gender</th>\n",
       "      <td>0.66</td>\n",
       "    </tr>\n",
       "    <tr>\n",
       "      <th>Marital_Status</th>\n",
       "      <td>0.78</td>\n",
       "    </tr>\n",
       "    <tr>\n",
       "      <th>Transaction_Count</th>\n",
       "      <td>0.82</td>\n",
       "    </tr>\n",
       "    <tr>\n",
       "      <th>Product_Category</th>\n",
       "      <td>0.54</td>\n",
       "    </tr>\n",
       "    <tr>\n",
       "      <th>Engagement_Score</th>\n",
       "      <td>1.19</td>\n",
       "    </tr>\n",
       "  </tbody>\n",
       "</table>\n",
       "</div>"
      ],
      "text/plain": [
       "                   odds\n",
       "Age                1.04\n",
       "Income             1.00\n",
       "Gender             0.66\n",
       "Marital_Status     0.78\n",
       "Transaction_Count  0.82\n",
       "Product_Category   0.54\n",
       "Engagement_Score   1.19"
      ]
     },
     "execution_count": 78,
     "metadata": {},
     "output_type": "execute_result"
    }
   ],
   "source": [
    "odds = np.round(np.exp(log_odds), 2)\n",
    "pd.DataFrame({'odds': odds}, \n",
    "              index = x.columns)"
   ]
  },
  {
   "cell_type": "markdown",
   "metadata": {},
   "source": [
    "- Age (exp(0.04) ≈ 1.04):\n",
    "\n",
    "    Interpretation: For each additional year of age, the odds of churning increase by about 4%.\n",
    "\n",
    "    Insight: Age is a moderate risk factor for churn, with older customers slightly more likely to leave.\n",
    "\n",
    "- Income (exp(0.00) = 1.00):\n",
    "\n",
    "    Interpretation: Income has no effect on the odds of churning, as indicated by an odds ratio of exactly 1.\n",
    "\n",
    "    Insight: Changes in income levels do not influence churn decisions, suggesting other factors play a more significant role.\n",
    "\n",
    "- Gender (exp(-0.41) ≈ 0.66):\n",
    "\n",
    "    Interpretation: Changing gender (from male to female, if coded as 0 for male and 1 for female) decreases the odds of churning by 34%.\n",
    "    \n",
    "    Insight: Gender plays a significant role, with female customers less likely to churn than male customers.\n",
    "\n",
    "- Marital_Status (exp(-0.25) ≈ 0.78):\n",
    "\n",
    "    Interpretation: Being married reduces the odds of churning by about 22% compared to being single.\n",
    "\n",
    "    Insight: Marital status is linked to churn, with married customers showing higher loyalty.\n",
    "\n",
    "- Transaction_Count (exp(-0.20) ≈ 0.82):\n",
    "\n",
    "    Interpretation: Each additional transaction decreases the odds of churning by about 18%.\n",
    "\n",
    "    Insight: More frequent transactions suggest better customer engagement and satisfaction, leading to lower churn.\n",
    "\n",
    "- Product_Category (exp(-0.62) ≈ 0.54):\n",
    "\n",
    "    Interpretation: Transitioning to higher product categories (assuming numeric encoding) reduces the odds of churning by 46%.\n",
    "\n",
    "    Insight: Certain product categories are associated with higher loyalty and reduced churn risk.\n",
    "\n",
    "- Engagement_Score (exp(0.17) ≈ 1.18):\n",
    "\n",
    "    Interpretation: For each unit increase in engagement score, the odds of churning increase by about 18%.\n",
    "\n",
    "    Insight: High engagement might indicate higher expectations, which, if not met, increase churn risk."
   ]
  }
 ],
 "metadata": {
  "kernelspec": {
   "display_name": "Python 3",
   "language": "python",
   "name": "python3"
  },
  "language_info": {
   "codemirror_mode": {
    "name": "ipython",
    "version": 3
   },
   "file_extension": ".py",
   "mimetype": "text/x-python",
   "name": "python",
   "nbconvert_exporter": "python",
   "pygments_lexer": "ipython3",
   "version": "3.11.9"
  }
 },
 "nbformat": 4,
 "nbformat_minor": 2
}
