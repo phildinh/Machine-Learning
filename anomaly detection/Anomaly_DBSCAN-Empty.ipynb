{
 "cells": [
  {
   "cell_type": "markdown",
   "id": "fa5116f2-d1ad-4bfc-adec-127c8eb2fbad",
   "metadata": {},
   "source": [
    "## 1. DBSCAN"
   ]
  },
  {
   "cell_type": "markdown",
   "id": "b4edc124-90e9-4830-a8f5-9231de0d5d4b",
   "metadata": {},
   "source": [
    "### a. Data Prep"
   ]
  },
  {
   "cell_type": "code",
   "execution_count": null,
   "id": "99f1d8b5-781e-47f7-bf3c-2239d1ec5195",
   "metadata": {},
   "outputs": [],
   "source": [
    "# import pandas and pull file entertainment_clean.csv\n"
   ]
  },
  {
   "cell_type": "code",
   "execution_count": null,
   "id": "dec642da-d558-4e4c-9771-e1e9c67c498e",
   "metadata": {},
   "outputs": [],
   "source": [
    "# make a copy\n"
   ]
  },
  {
   "cell_type": "code",
   "execution_count": null,
   "id": "daf38136-7859-4c99-b288-d4eb3c58f978",
   "metadata": {},
   "outputs": [],
   "source": [
    "# keep only the numeric columns\n"
   ]
  },
  {
   "cell_type": "code",
   "execution_count": null,
   "id": "9c2e460d-db23-40de-984a-92b74b46a563",
   "metadata": {},
   "outputs": [],
   "source": [
    "# note the shape of the data\n"
   ]
  },
  {
   "cell_type": "code",
   "execution_count": null,
   "id": "e769e362-dceb-46e6-a7e4-76a780eba92f",
   "metadata": {},
   "outputs": [],
   "source": [
    "# dbscan function to find a good eps + min_samples combo (I keep it as a script, easy to use copy and paste)\n"
   ]
  },
  {
   "cell_type": "code",
   "execution_count": null,
   "id": "b2789e23-0792-4cc5-acbf-3fa03c0c83ef",
   "metadata": {},
   "outputs": [],
   "source": [
    "# view the results on the original data, we take 'tune_dbscan' from def \n"
   ]
  },
  {
   "cell_type": "code",
   "execution_count": null,
   "id": "f3a5f593-66ae-4087-a681-b37c9f79ab4a",
   "metadata": {},
   "outputs": [],
   "source": [
    "# top silhouette scores\n"
   ]
  },
  {
   "cell_type": "code",
   "execution_count": null,
   "id": "ab1c099b-b304-4321-86f9-1334c3201e9f",
   "metadata": {},
   "outputs": [],
   "source": [
    "# return one eps + min_samples combo for each silhouette score\n"
   ]
  },
  {
   "cell_type": "code",
   "execution_count": null,
   "id": "ed26d570-f889-4a64-a9ee-0778419421f6",
   "metadata": {},
   "outputs": [],
   "source": [
    "# fit a dbscan model, # we choose eps = 1.0, min samples = 6 because we have 2 anomalies (our goal is finding anomalies.\n",
    "# if you want to find more anomalies, base on our dbscan_results, you can find Number of Noise Points (depends on your goal)\n"
   ]
  },
  {
   "cell_type": "code",
   "execution_count": null,
   "id": "68aac28c-d4c2-462c-9251-632d64880b7f",
   "metadata": {},
   "outputs": [],
   "source": [
    "# view the cluster assignments\n"
   ]
  },
  {
   "cell_type": "markdown",
   "id": "28c15f8b-0fae-4f77-8364-7b0ffe6b3683",
   "metadata": {},
   "source": [
    "### b. Visualize the Anomalies"
   ]
  },
  {
   "cell_type": "code",
   "execution_count": null,
   "id": "02d144c0-eb77-4b69-bb38-9d47512fca9c",
   "metadata": {},
   "outputs": [],
   "source": [
    "# view our dataset\n"
   ]
  },
  {
   "cell_type": "code",
   "execution_count": null,
   "id": "6b4eb2a1-b2d8-4775-88a5-83da4c81d4d4",
   "metadata": {},
   "outputs": [],
   "source": [
    "# view the anomaly labels from dbscan\n"
   ]
  },
  {
   "cell_type": "code",
   "execution_count": null,
   "id": "427faf9c-b9c4-46e1-9499-5fff5164840c",
   "metadata": {},
   "outputs": [],
   "source": [
    "# view specific anomalies by pair plot\n"
   ]
  },
  {
   "cell_type": "code",
   "execution_count": null,
   "id": "21ffc7bf-21b9-4308-bc87-663e9eb9245c",
   "metadata": {},
   "outputs": [],
   "source": [
    "# Watch anomalies data from filter"
   ]
  },
  {
   "cell_type": "code",
   "execution_count": null,
   "id": "902a6b6d-3418-437d-8793-6b735c7d5661",
   "metadata": {},
   "outputs": [],
   "source": [
    "# combine to our dataset, we can see name"
   ]
  }
 ],
 "metadata": {
  "kernelspec": {
   "display_name": "Python 3 (ipykernel)",
   "language": "python",
   "name": "python3"
  },
  "language_info": {
   "codemirror_mode": {
    "name": "ipython",
    "version": 3
   },
   "file_extension": ".py",
   "mimetype": "text/x-python",
   "name": "python",
   "nbconvert_exporter": "python",
   "pygments_lexer": "ipython3",
   "version": "3.12.4"
  }
 },
 "nbformat": 4,
 "nbformat_minor": 5
}
