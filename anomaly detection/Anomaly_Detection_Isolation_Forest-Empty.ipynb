{
 "cells": [
  {
   "cell_type": "markdown",
   "id": "c877bdbb-9401-4c7f-bfc3-dbef2e9fc2f3",
   "metadata": {},
   "source": [
    "## 1. Isolation Forests"
   ]
  },
  {
   "cell_type": "markdown",
   "id": "962ccd7f-e081-4e09-980e-873ab3f296de",
   "metadata": {},
   "source": [
    "### a. Data Prep"
   ]
  },
  {
   "cell_type": "code",
   "execution_count": null,
   "id": "f534a4f2-74c9-443d-8cb0-00f43d3d0adf",
   "metadata": {},
   "outputs": [],
   "source": [
    "# import pandas and pull file entertainment_clean.csv\n"
   ]
  },
  {
   "cell_type": "code",
   "execution_count": null,
   "id": "ba59960d-6dd3-46ae-a52e-493ac11a4981",
   "metadata": {},
   "outputs": [],
   "source": [
    "# keep only the numeric columns\n"
   ]
  },
  {
   "cell_type": "code",
   "execution_count": null,
   "id": "ef11b359-a701-4655-b101-ccfe630e5c15",
   "metadata": {},
   "outputs": [],
   "source": [
    "# note the shape of the data\n"
   ]
  },
  {
   "cell_type": "markdown",
   "id": "d6bcb442-9742-4206-aa94-139616d503b3",
   "metadata": {},
   "source": [
    "### b. Fit an Isolation Forest Model"
   ]
  },
  {
   "cell_type": "code",
   "execution_count": null,
   "id": "2e95a584-fd21-4377-9bd0-2a1ec4daf2b8",
   "metadata": {},
   "outputs": [],
   "source": [
    "# import isolation forest from sklearn\n"
   ]
  },
  {
   "cell_type": "code",
   "execution_count": null,
   "id": "9d9b4be2-64ab-4c15-acff-159f2d65f6eb",
   "metadata": {},
   "outputs": [],
   "source": [
    "# fit an isolation forest model with \"7%\" of the data set as anomalies\n"
   ]
  },
  {
   "cell_type": "code",
   "execution_count": null,
   "id": "40337c87-cc76-4847-9e51-fc9ff7d1d9ea",
   "metadata": {},
   "outputs": [],
   "source": [
    "# view the anomaly scores\n"
   ]
  },
  {
   "cell_type": "code",
   "execution_count": null,
   "id": "b328fbc7-dc23-439a-b6a8-b65addfe89cf",
   "metadata": {},
   "outputs": [],
   "source": [
    "# view the anomaly flags\n"
   ]
  },
  {
   "cell_type": "markdown",
   "id": "3285cdba-1017-43a0-9de0-d30c0c44c841",
   "metadata": {},
   "source": [
    "### c. Visualize the Anomalies"
   ]
  },
  {
   "cell_type": "code",
   "execution_count": null,
   "id": "09737b25-d0cc-4bb4-9a86-f21d98e868e0",
   "metadata": {},
   "outputs": [],
   "source": [
    "# view a pair plot of the original data set\n"
   ]
  },
  {
   "cell_type": "code",
   "execution_count": null,
   "id": "c7d6a28d-add1-401b-952d-18a39d9cbedb",
   "metadata": {},
   "outputs": [],
   "source": [
    "# overlay the isolation forest detected outliers\n"
   ]
  },
  {
   "cell_type": "code",
   "execution_count": null,
   "id": "d9fde8ec-7e87-4436-8ad9-5de02e624926",
   "metadata": {},
   "outputs": [],
   "source": []
  },
  {
   "cell_type": "code",
   "execution_count": null,
   "id": "d1b4ddef-390d-4ff2-83b5-5d595d04e4b0",
   "metadata": {},
   "outputs": [],
   "source": []
  },
  {
   "cell_type": "code",
   "execution_count": null,
   "id": "52dd9776-17b5-49e3-8720-f2a62dd52680",
   "metadata": {},
   "outputs": [],
   "source": []
  },
  {
   "cell_type": "code",
   "execution_count": null,
   "id": "8db1a331-08ef-4e4f-bf86-be01fb40f6f0",
   "metadata": {},
   "outputs": [],
   "source": []
  },
  {
   "cell_type": "code",
   "execution_count": null,
   "id": "5584467f-33d7-4ffd-abba-2e0e2c5504fb",
   "metadata": {},
   "outputs": [],
   "source": []
  },
  {
   "cell_type": "code",
   "execution_count": null,
   "id": "a623c65b-53e5-4b74-b443-08a61468f9bc",
   "metadata": {},
   "outputs": [],
   "source": []
  },
  {
   "cell_type": "code",
   "execution_count": null,
   "id": "ab2bb2f7-f523-4fb8-a5ad-d73c375d7667",
   "metadata": {},
   "outputs": [],
   "source": []
  },
  {
   "cell_type": "code",
   "execution_count": null,
   "id": "4400d1d2-b68e-4112-9d24-7efdd5116169",
   "metadata": {},
   "outputs": [],
   "source": []
  },
  {
   "cell_type": "code",
   "execution_count": null,
   "id": "ebcb2ea9-68d7-4a93-9d11-4c0aeb52542f",
   "metadata": {},
   "outputs": [],
   "source": []
  },
  {
   "cell_type": "code",
   "execution_count": null,
   "id": "31eae240-8cc4-4567-827f-e5ac94d23f95",
   "metadata": {},
   "outputs": [],
   "source": []
  },
  {
   "cell_type": "code",
   "execution_count": null,
   "id": "f8cc8dda-cda2-4fc1-87ac-df68f5d448ca",
   "metadata": {},
   "outputs": [],
   "source": []
  }
 ],
 "metadata": {
  "kernelspec": {
   "display_name": "Python 3 (ipykernel)",
   "language": "python",
   "name": "python3"
  },
  "language_info": {
   "codemirror_mode": {
    "name": "ipython",
    "version": 3
   },
   "file_extension": ".py",
   "mimetype": "text/x-python",
   "name": "python",
   "nbconvert_exporter": "python",
   "pygments_lexer": "ipython3",
   "version": "3.12.4"
  }
 },
 "nbformat": 4,
 "nbformat_minor": 5
}
